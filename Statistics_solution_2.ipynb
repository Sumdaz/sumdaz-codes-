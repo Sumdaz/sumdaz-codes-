{
  "cells": [
    {
      "cell_type": "markdown",
      "metadata": {
        "id": "GixHOLa53SUS"
      },
      "source": [
        "1. Create a sample having 11 observations. Obtain the quartiles using the four methods given in the link https://en.wikipedia.org/wiki/Quartile#Discrete_distributions (Links to an external site.). Note that the method we’ve discussed is Method 4. (Write as a Markdown)"
      ]
    },
    {
      "cell_type": "code",
      "execution_count": null,
      "metadata": {
        "id": "0rtL0EHZ3cHR"
      },
      "outputs": [],
      "source": []
    },
    {
      "cell_type": "markdown",
      "metadata": {
        "id": "VxhhVyOC3pW9"
      },
      "source": [
        "data_set = 8, 15, 13, 7, 11, 2, 4, 17, 27, 34, 21\n",
        "\n",
        "Ordered_data_set = 2, 4, 7, 8, 11, 13, 15, 17, 21, 27, 34\n",
        "\n",
        "Method 1:\n",
        "\n",
        "2, 4, 7, 8, 11    //// 13  /////   15, 17, 21, 27, 34\n",
        "\n",
        "Q1 is the median of the first data set on the left\n",
        "Q1 = 7\n",
        "\n",
        "Q2 = 13\n",
        "\n",
        "Q3 is the median of the second data set on the right\n",
        "Q3 = 21"
      ]
    },
    {
      "cell_type": "markdown",
      "metadata": {
        "id": "Yb1jU3ys5KaR"
      },
      "source": [
        "Method 2:\n",
        "\n",
        "2, 4, 7, 8, 11, 13 //////13, 15, 17, 21, 27, 34\n",
        "\n",
        "Q1 is median of the first data set on the left\n",
        "\n",
        "\n",
        "Q1 = (7+8)/2 = 7.5\n",
        "\n",
        "\n",
        "Q2 = 13\n",
        "\n",
        "\n",
        "Q3 is the median of the second data set on the right\n",
        "\n",
        "Q3 = (17+21)/2 = 19"
      ]
    },
    {
      "cell_type": "markdown",
      "metadata": {
        "id": "RIABlja36J4K"
      },
      "source": [
        "Method 3:\n",
        "\n",
        "2, 4, 7, 8, 11, 13, 15, 17, 21, 27, 34\n",
        "\n",
        "For (4n + 3) = 11\n",
        "\n",
        "4n = 11 - 3\n",
        "\n",
        "4n = 8\n",
        "\n",
        "n = 8/4\n",
        "\n",
        "n = 2\n",
        "\n",
        "Q1 = (75% (2 + 1) + 25% (2 + 2))th\n",
        "\n",
        "= 0.75 * 3 + 0.25 * 4\n",
        "\n",
        "= 2.25 + 1\n",
        "\n",
        "= 3.25th\n",
        "\n",
        "value at 3.25th is calculated by:\n",
        "\n",
        "Q1 = 3rd value + 0.25 ( 4th value - 3rd value)\n",
        "\n",
        "Q1 = 7 + 0.25 (8 - 7)\n",
        "\n",
        "Q1 = 7 + 0.25 * 1\n",
        "\n",
        "Q1 = 7 + 0.25\n",
        "\n",
        "Q1 = 7.25\n",
        "\n",
        "\n",
        "Q2 = 13\n",
        "\n",
        "\n",
        "Q3 = (25% (3 * 2 + 2) + 75% (3 * 2 + 3))th\n",
        "\n",
        "= (0.25 * 8 + 0.75 * 9)th\n",
        "\n",
        "= 2 + 6.75\n",
        "\n",
        "= 8.75th\n",
        "\n",
        "value at 8.75th is calculated by:\n",
        "\n",
        "Q3 = 8th value + 0.75 ( 9th value - 8th value)\n",
        "\n",
        "Q3 = 17 + 0.75 (21 - 17)\n",
        "\n",
        "Q3 = 17 + 0.75 * 4\n",
        "\n",
        "Q3 = 17 + 3\n",
        "\n",
        "Q3 = 20\n"
      ]
    },
    {
      "cell_type": "markdown",
      "metadata": {
        "id": "20Aq4pS79ZkO"
      },
      "source": [
        "Method 4:\n",
        "\n",
        "Ordered data set = 2, 4, 7, 8, 11, 13, 15, 17, 21, 27, 34\n",
        "\n",
        "Q1 = 0.25 (n + 1)th\n",
        "\n",
        "= 0.25 (11+1)\n",
        "\n",
        "= 3rd value\n",
        "\n",
        "Q1 = 7\n",
        "\n",
        "\n",
        "Q2 = 13\n",
        "\n",
        "\n",
        "Q3 = 0.75 (n + 1)th\n",
        "\n",
        "= 0.75 (11+1)\n",
        "\n",
        "= 0.75 * 12\n",
        "\n",
        "= 9th value\n",
        "\n",
        "Q3 = 21"
      ]
    },
    {
      "cell_type": "code",
      "execution_count": null,
      "metadata": {
        "id": "KsDRYdRU47rv"
      },
      "outputs": [],
      "source": []
    },
    {
      "cell_type": "markdown",
      "metadata": {
        "id": "0zyC3Z1y5Idx"
      },
      "source": [
        "2. a) Define the same sample in Python.\n",
        "b) Using np.percentiles or np.quantiles write a Python code that gives the quartiles of your sample. Indicate which method in the link https://en.wikipedia.org/wiki/Quartile#Discrete_distributions (Links to an external site.) is used.\n",
        "c) Write Python codes to obtain the quartiles of your sample using for each of the four methods."
      ]
    },
    {
      "cell_type": "markdown",
      "metadata": {
        "id": "a1TTnFmCTKbG"
      },
      "source": [
        "a) Define the same sample in Python."
      ]
    },
    {
      "cell_type": "code",
      "execution_count": null,
      "metadata": {
        "colab": {
          "base_uri": "https://localhost:8080/"
        },
        "id": "df7pw5sw-XXf",
        "outputId": "6956e0ef-a098-4a10-d664-583c68f44274"
      },
      "outputs": [
        {
          "output_type": "execute_result",
          "data": {
            "text/plain": [
              "[8, 15, 13, 7, 11, 2, 4, 17, 27, 34, 21]"
            ]
          },
          "metadata": {},
          "execution_count": 1
        }
      ],
      "source": [
        "data_set = [8, 15, 13, 7, 11, 2, 4, 17, 27, 34, 21]\n",
        "data_set"
      ]
    },
    {
      "cell_type": "markdown",
      "metadata": {
        "id": "YF67_ThLTRJp"
      },
      "source": [
        "b) Using np.percentiles or np.quantiles write a Python code that gives the quartiles of your sample."
      ]
    },
    {
      "cell_type": "code",
      "execution_count": null,
      "metadata": {
        "id": "h82m2pxm_R_5"
      },
      "outputs": [],
      "source": [
        "import math\n",
        "import statistics\n",
        "import numpy as np\n",
        "import scipy.stats\n",
        "import pandas as pd"
      ]
    },
    {
      "cell_type": "markdown",
      "metadata": {
        "id": "hxuR1c6wS9XS"
      },
      "source": [
        "method 2 is used"
      ]
    },
    {
      "cell_type": "code",
      "execution_count": null,
      "metadata": {
        "id": "KNCvAMDnAbf9"
      },
      "outputs": [],
      "source": [
        "x = np.percentile (data_set, [25, 50, 75])"
      ]
    },
    {
      "cell_type": "code",
      "execution_count": null,
      "metadata": {
        "colab": {
          "base_uri": "https://localhost:8080/"
        },
        "id": "eRDRsjdDRw7x",
        "outputId": "80c214ad-9f51-4d72-876a-5522eed85612"
      },
      "outputs": [
        {
          "output_type": "execute_result",
          "data": {
            "text/plain": [
              "array([ 7.5, 13. , 19. ])"
            ]
          },
          "metadata": {},
          "execution_count": 4
        }
      ],
      "source": [
        "x"
      ]
    },
    {
      "cell_type": "markdown",
      "metadata": {
        "id": "6C0ouhQMTTah"
      },
      "source": [
        "c) Write Python codes to obtain the quartiles of your sample using for each of the four methods."
      ]
    },
    {
      "cell_type": "markdown",
      "metadata": {
        "id": "EvO4kDUBVs9Q"
      },
      "source": [
        "Method 1"
      ]
    },
    {
      "cell_type": "code",
      "execution_count": null,
      "metadata": {
        "colab": {
          "base_uri": "https://localhost:8080/"
        },
        "id": "2CkOtrdjVxl0",
        "outputId": "58840ac5-b714-4e14-bc8b-7f5b606efb26"
      },
      "outputs": [
        {
          "output_type": "execute_result",
          "data": {
            "text/plain": [
              "[2, 4, 7, 8, 11, 13, 15, 17, 21, 27, 34]"
            ]
          },
          "metadata": {},
          "execution_count": 19
        }
      ],
      "source": [
        "data_set = [8, 15, 13, 7, 11, 2, 4, 17, 27, 34, 21]\n",
        "data_set_sorted = sorted(data_set)\n",
        "data_set_sorted\n"
      ]
    },
    {
      "cell_type": "code",
      "source": [
        "n = len(data_set_sorted)\n",
        "n"
      ],
      "metadata": {
        "colab": {
          "base_uri": "https://localhost:8080/"
        },
        "id": "PT4Dr-x3DKqb",
        "outputId": "633433f2-1961-46dc-a2c3-1f6d44412aa8"
      },
      "execution_count": null,
      "outputs": [
        {
          "output_type": "execute_result",
          "data": {
            "text/plain": [
              "11"
            ]
          },
          "metadata": {},
          "execution_count": 20
        }
      ]
    },
    {
      "cell_type": "code",
      "source": [
        "x = data_set_sorted[0:5]\n",
        "x"
      ],
      "metadata": {
        "colab": {
          "base_uri": "https://localhost:8080/"
        },
        "id": "hhrnb7JIDUCc",
        "outputId": "57ba8c6e-769c-432c-b0fa-2e57f6769be4"
      },
      "execution_count": null,
      "outputs": [
        {
          "output_type": "execute_result",
          "data": {
            "text/plain": [
              "[2, 4, 7, 8, 11]"
            ]
          },
          "metadata": {},
          "execution_count": 22
        }
      ]
    },
    {
      "cell_type": "code",
      "source": [
        "Q1 = x[2]\n",
        "Q1"
      ],
      "metadata": {
        "colab": {
          "base_uri": "https://localhost:8080/"
        },
        "id": "soV25TmJDicA",
        "outputId": "d24db01c-e84f-45a0-d7b0-ba135a8daff2"
      },
      "execution_count": null,
      "outputs": [
        {
          "output_type": "execute_result",
          "data": {
            "text/plain": [
              "7"
            ]
          },
          "metadata": {},
          "execution_count": 24
        }
      ]
    },
    {
      "cell_type": "code",
      "source": [
        "Q2 = data_set_sorted[5]\n",
        "Q2"
      ],
      "metadata": {
        "colab": {
          "base_uri": "https://localhost:8080/"
        },
        "id": "PTIo01tKD6QA",
        "outputId": "2dfb3ed5-a691-4671-bcba-b700cdbefaf4"
      },
      "execution_count": null,
      "outputs": [
        {
          "output_type": "execute_result",
          "data": {
            "text/plain": [
              "13"
            ]
          },
          "metadata": {},
          "execution_count": 29
        }
      ]
    },
    {
      "cell_type": "code",
      "source": [
        "y = data_set_sorted[6:]\n",
        "y"
      ],
      "metadata": {
        "colab": {
          "base_uri": "https://localhost:8080/"
        },
        "id": "94o72B7gDr62",
        "outputId": "03309e98-2f23-470d-907d-2a0d8ba2a6c0"
      },
      "execution_count": null,
      "outputs": [
        {
          "output_type": "execute_result",
          "data": {
            "text/plain": [
              "[15, 17, 21, 27, 34]"
            ]
          },
          "metadata": {},
          "execution_count": 25
        }
      ]
    },
    {
      "cell_type": "code",
      "source": [
        "Q3 = y[2]\n",
        "Q3"
      ],
      "metadata": {
        "colab": {
          "base_uri": "https://localhost:8080/"
        },
        "id": "AGJrcQMUDysI",
        "outputId": "70e18c02-65e4-40d0-9eb9-0d824f8efab3"
      },
      "execution_count": null,
      "outputs": [
        {
          "output_type": "execute_result",
          "data": {
            "text/plain": [
              "21"
            ]
          },
          "metadata": {},
          "execution_count": 26
        }
      ]
    },
    {
      "cell_type": "markdown",
      "metadata": {
        "id": "8gsTNHqoT-Hz"
      },
      "source": [
        "Method 2"
      ]
    },
    {
      "cell_type": "code",
      "execution_count": null,
      "metadata": {
        "colab": {
          "base_uri": "https://localhost:8080/"
        },
        "id": "OIbzA-puSaeZ",
        "outputId": "66498e0b-7cc4-4c10-fe5e-0de2b3d4c641"
      },
      "outputs": [
        {
          "output_type": "execute_result",
          "data": {
            "text/plain": [
              "7.5"
            ]
          },
          "metadata": {},
          "execution_count": 11
        }
      ],
      "source": [
        "data_set = [8, 15, 13, 7, 11, 2, 4, 17, 27, 34, 21]\n",
        "data_set\n",
        "x = np.percentile(data_set, 25)\n",
        "x"
      ]
    },
    {
      "cell_type": "code",
      "execution_count": null,
      "metadata": {
        "colab": {
          "base_uri": "https://localhost:8080/"
        },
        "id": "YkPUgCjbUpvk",
        "outputId": "f7efeb4c-1347-4a60-a60c-301898a001d1"
      },
      "outputs": [
        {
          "output_type": "execute_result",
          "data": {
            "text/plain": [
              "13.0"
            ]
          },
          "metadata": {},
          "execution_count": 12
        }
      ],
      "source": [
        "data_set = [8, 15, 13, 7, 11, 2, 4, 17, 27, 34, 21]\n",
        "data_set\n",
        "x = np.percentile(data_set, 50)\n",
        "x"
      ]
    },
    {
      "cell_type": "code",
      "execution_count": null,
      "metadata": {
        "colab": {
          "base_uri": "https://localhost:8080/"
        },
        "id": "hJmxYCRfVbXF",
        "outputId": "d91836c8-fb89-4de7-e0c2-df8854b2ca39"
      },
      "outputs": [
        {
          "output_type": "execute_result",
          "data": {
            "text/plain": [
              "19.0"
            ]
          },
          "metadata": {},
          "execution_count": 13
        }
      ],
      "source": [
        "data_set = [8, 15, 13, 7, 11, 2, 4, 17, 27, 34, 21]\n",
        "data_set\n",
        "x = np.percentile(data_set, 75)\n",
        "x"
      ]
    },
    {
      "cell_type": "markdown",
      "source": [
        "Method 3"
      ],
      "metadata": {
        "id": "GLVIO5DDENGH"
      }
    },
    {
      "cell_type": "code",
      "execution_count": null,
      "metadata": {
        "id": "WKz-gKo3VfW8",
        "colab": {
          "base_uri": "https://localhost:8080/"
        },
        "outputId": "67ce892b-85a8-4b5a-8073-eb112de56772"
      },
      "outputs": [
        {
          "output_type": "execute_result",
          "data": {
            "text/plain": [
              "[2.00000000000000]"
            ]
          },
          "metadata": {},
          "execution_count": 33
        }
      ],
      "source": [
        "from sympy.solvers import solve\n",
        "from sympy import Symbol\n",
        "n = Symbol('n')\n",
        "x = solve(n + (3 - 11)/4, n)\n",
        "x"
      ]
    },
    {
      "cell_type": "code",
      "source": [
        "# to find Q1\n",
        "pth = 0.75 * (2 + 1) + 0.25 * (2 + 2)\n",
        "pth"
      ],
      "metadata": {
        "colab": {
          "base_uri": "https://localhost:8080/"
        },
        "id": "sN1SyYu8HQ51",
        "outputId": "663758bd-326f-494f-f833-34610f065588"
      },
      "execution_count": null,
      "outputs": [
        {
          "output_type": "execute_result",
          "data": {
            "text/plain": [
              "3.25"
            ]
          },
          "metadata": {},
          "execution_count": 35
        }
      ]
    },
    {
      "cell_type": "code",
      "source": [
        "#find the value element at 3.25th position\n",
        "Q1 = data_set_sorted[2] + 0.25 * (data_set_sorted[3] - data_set_sorted[2])\n",
        "Q1"
      ],
      "metadata": {
        "colab": {
          "base_uri": "https://localhost:8080/"
        },
        "id": "rMXiWUWOHyL7",
        "outputId": "89cb9572-1aac-4cc4-e7ce-e3199d455202"
      },
      "execution_count": null,
      "outputs": [
        {
          "output_type": "execute_result",
          "data": {
            "text/plain": [
              "7.25"
            ]
          },
          "metadata": {},
          "execution_count": 37
        }
      ]
    },
    {
      "cell_type": "code",
      "source": [
        "# to find Q3\n",
        "pth = 0.25 * (3 * 2 + 2) + 0.75 * (3 * 2 + 3)\n",
        "pth"
      ],
      "metadata": {
        "colab": {
          "base_uri": "https://localhost:8080/"
        },
        "id": "BbKpD8PqIgWM",
        "outputId": "672d7493-7647-4608-e71d-06eff88847b2"
      },
      "execution_count": null,
      "outputs": [
        {
          "output_type": "execute_result",
          "data": {
            "text/plain": [
              "8.75"
            ]
          },
          "metadata": {},
          "execution_count": 38
        }
      ]
    },
    {
      "cell_type": "code",
      "source": [
        "# to find the value of element at 8.75th position\n",
        "Q3 = data_set_sorted[7] + 0.75 * (data_set_sorted[8] -  data_set_sorted[7])\n",
        "Q3"
      ],
      "metadata": {
        "colab": {
          "base_uri": "https://localhost:8080/"
        },
        "id": "PkmwNcSEI4ZX",
        "outputId": "ec97ba8f-4353-4820-de43-d0d48c02a785"
      },
      "execution_count": null,
      "outputs": [
        {
          "output_type": "execute_result",
          "data": {
            "text/plain": [
              "20.0"
            ]
          },
          "metadata": {},
          "execution_count": 39
        }
      ]
    },
    {
      "cell_type": "markdown",
      "source": [
        "Method 4\n"
      ],
      "metadata": {
        "id": "Gzk7VSrLJwBQ"
      }
    },
    {
      "cell_type": "code",
      "source": [
        "# to find pth for the lower quartile\n",
        "y = 0.25 * (11 + 1)\n",
        "y"
      ],
      "metadata": {
        "colab": {
          "base_uri": "https://localhost:8080/"
        },
        "id": "YZdqVKaZJzF1",
        "outputId": "3f4794c6-ff51-413d-a903-b4a559b6b343"
      },
      "execution_count": null,
      "outputs": [
        {
          "output_type": "execute_result",
          "data": {
            "text/plain": [
              "3.0"
            ]
          },
          "metadata": {},
          "execution_count": 41
        }
      ]
    },
    {
      "cell_type": "code",
      "source": [
        "# the value of element at 3rd position (2nd position for index) gives Q1\n",
        "Q1 = data_set_sorted[2]\n",
        "Q1 "
      ],
      "metadata": {
        "colab": {
          "base_uri": "https://localhost:8080/"
        },
        "id": "Mr_mfacVKsin",
        "outputId": "41d6e053-d7ee-4f8f-f165-66a6fe7284cf"
      },
      "execution_count": null,
      "outputs": [
        {
          "output_type": "execute_result",
          "data": {
            "text/plain": [
              "7"
            ]
          },
          "metadata": {},
          "execution_count": 42
        }
      ]
    },
    {
      "cell_type": "code",
      "source": [
        "# to find the pth for the upper quartile\n",
        "k = 0.75 * (11 + 1)\n",
        "k"
      ],
      "metadata": {
        "colab": {
          "base_uri": "https://localhost:8080/"
        },
        "id": "6egikBEmLEAh",
        "outputId": "cbcf5b3f-2830-4b28-fc25-482a2297d8b0"
      },
      "execution_count": null,
      "outputs": [
        {
          "output_type": "execute_result",
          "data": {
            "text/plain": [
              "9.0"
            ]
          },
          "metadata": {},
          "execution_count": 43
        }
      ]
    },
    {
      "cell_type": "code",
      "source": [
        "# the value of element at 9th position (8th position for index) gives Q3\n",
        "Q3 = data_set_sorted[8]\n",
        "Q3"
      ],
      "metadata": {
        "colab": {
          "base_uri": "https://localhost:8080/"
        },
        "id": "xdeQP_JFLO6B",
        "outputId": "8916732e-b3a0-4f3d-e415-0829ac4525d8"
      },
      "execution_count": null,
      "outputs": [
        {
          "output_type": "execute_result",
          "data": {
            "text/plain": [
              "21"
            ]
          },
          "metadata": {},
          "execution_count": 44
        }
      ]
    },
    {
      "cell_type": "markdown",
      "source": [
        "3. Provide the definitions of the concepts Weighted Mean, Harmonic Mean, and Geometric Mean (write as a Markdown). Obtain those for the sample 60, 84, 65, 67, 75, 72, 80, 85, 63, 82, 70, 75 in Python."
      ],
      "metadata": {
        "id": "qCJI8P4-98Uu"
      }
    },
    {
      "cell_type": "markdown",
      "source": [
        "Weighted mean is the product of weight or probability associated with a particular outcome and its associated quantitative outcome and then summing all the products together.\n",
        "\n",
        "\n",
        "Harmonic mean is defined as the reciprocal of the average of the reciprocals of the data values.\n",
        "\n",
        "\n",
        "Geometric mean is the average value or mean which signifies the central tendency of the set of numbers by finding the product of their values.\n"
      ],
      "metadata": {
        "id": "vEYmoWaz-CMt"
      }
    },
    {
      "cell_type": "code",
      "source": [
        "# to caclulate weighted mean\n",
        "sample = [60, 63, 65, 67, 70, 72, 75, 80, 82, 85]\n",
        "frequency = [1, 1, 1, 1, 1 , 1, 2, 1, 1, 1]\n",
        "sample_sheet = {\n",
        "    'sample' : [60, 63, 65, 67, 70, 72, 75, 80, 82, 85], \n",
        "    'frequency' : [1, 1, 1, 1, 1 , 1, 2, 1, 1, 1]\n",
        "    }\n",
        "frame = pd.DataFrame(sample_sheet)\n",
        "print(frame)"
      ],
      "metadata": {
        "colab": {
          "base_uri": "https://localhost:8080/"
        },
        "id": "NYw0L-FG-ALf",
        "outputId": "7c8a74ba-ffb2-460b-c744-73e6f51fcade"
      },
      "execution_count": null,
      "outputs": [
        {
          "output_type": "stream",
          "name": "stdout",
          "text": [
            "   sample  frequency\n",
            "0      60          1\n",
            "1      63          1\n",
            "2      65          1\n",
            "3      67          1\n",
            "4      70          1\n",
            "5      72          1\n",
            "6      75          2\n",
            "7      80          1\n",
            "8      82          1\n",
            "9      85          1\n"
          ]
        }
      ]
    },
    {
      "cell_type": "code",
      "source": [
        "weighted_mean = round(sum([sample[i] * frequency[i] \n",
        "                           for i in range (len(sample))])/sum(frequency), 2)\n",
        "print (weighted_mean)"
      ],
      "metadata": {
        "colab": {
          "base_uri": "https://localhost:8080/"
        },
        "id": "oJvJ46v__rV-",
        "outputId": "c99af11e-5404-416a-8eb9-9a1a1436c0ed"
      },
      "execution_count": null,
      "outputs": [
        {
          "output_type": "stream",
          "name": "stdout",
          "text": [
            "72.18\n"
          ]
        }
      ]
    },
    {
      "cell_type": "code",
      "source": [
        "# to calculate harmonic mean\n",
        "sample = [60, 63, 65, 67, 70, 72, 75, 80, 82, 85]\n",
        "sum = 0\n",
        "for ele in sample:\n",
        "  sum += 1/ele\n",
        "  result = len(sample)/sum\n",
        "print ('Harmonic mean of sample is: ', result)"
      ],
      "metadata": {
        "colab": {
          "base_uri": "https://localhost:8080/"
        },
        "id": "idR1NbQ_AWGR",
        "outputId": "394b0333-fb63-4b91-d71d-d9e0fbdbfe2a"
      },
      "execution_count": null,
      "outputs": [
        {
          "output_type": "stream",
          "name": "stdout",
          "text": [
            "Harmonic mean of sample is:  71.01393354867473\n"
          ]
        }
      ]
    },
    {
      "cell_type": "code",
      "source": [
        "# to calculate the geometric mean\n",
        "\n",
        "from scipy.stats import gmean\n",
        "sample = [60, 63, 65, 67, 70, 72, 75, 80, 82, 85]\n",
        "geometric_mean = gmean([60, 63, 65, 67, 70, 72, 75, 80, 82, 85])\n",
        "print('geometric mean is: ', geometric_mean)"
      ],
      "metadata": {
        "colab": {
          "base_uri": "https://localhost:8080/"
        },
        "id": "PuWESwayA0NJ",
        "outputId": "2543d4f7-b333-49ca-df18-48fd26c2875d"
      },
      "execution_count": null,
      "outputs": [
        {
          "output_type": "stream",
          "name": "stdout",
          "text": [
            "geometric mean is:  71.45447824887648\n"
          ]
        }
      ]
    },
    {
      "cell_type": "markdown",
      "source": [
        "4. In Python, try to sketch a Pareto chart for the dataset Highest temperatures (the one we used in the Example of our discussion on the topic Frequency distribution tables, Histogram, and Ogive)."
      ],
      "metadata": {
        "id": "hnLvJ85oLfIv"
      }
    },
    {
      "cell_type": "code",
      "source": [
        "temp = [24, 35, 17, 21, 24, 37, 26, 46, 58, 30, \n",
        "        32, 13, 12, 38, 41, 43, 44, 27, 53, 27]\n",
        "temp_sorted = sorted(temp)\n",
        "temp_sorted"
      ],
      "metadata": {
        "colab": {
          "base_uri": "https://localhost:8080/"
        },
        "id": "-8zOhTzrBRoj",
        "outputId": "0812abd0-f0d7-46fb-c9d3-8310ecea3513"
      },
      "execution_count": null,
      "outputs": [
        {
          "output_type": "execute_result",
          "data": {
            "text/plain": [
              "[12,\n",
              " 13,\n",
              " 17,\n",
              " 21,\n",
              " 24,\n",
              " 24,\n",
              " 26,\n",
              " 27,\n",
              " 27,\n",
              " 30,\n",
              " 32,\n",
              " 35,\n",
              " 37,\n",
              " 38,\n",
              " 41,\n",
              " 43,\n",
              " 44,\n",
              " 46,\n",
              " 53,\n",
              " 58]"
            ]
          },
          "metadata": {},
          "execution_count": 46
        }
      ]
    },
    {
      "cell_type": "code",
      "source": [
        "import numpy as np \n",
        "import pandas as pd\n",
        "import matplotlib.pyplot as plt\n",
        "from matplotlib.ticker import PercentFormatter\n",
        "df = pd.DataFrame({'temp':[24, 35, 17, 21, 24, 37, 26, 46, 58, 30, \n",
        "        32, 13, 12, 38, 41, 43, 44, 27, 53, 27]})\n",
        "df.index = ['A', 'B', 'C', 'D', 'E', 'F', 'G', 'H', 'I', 'J', \n",
        "                'K', 'L', 'M', 'N', 'O', 'P', 'Q', 'R', 'S', 'T']\n",
        "df = df.sort_values(by = 'temp', ascending = False)\n",
        "df['cumpercentage'] = df['temp'].cumsum()/df['temp'].sum()*100\n",
        "\n",
        "fig, ax = plt.subplots()\n",
        "ax.bar(df.index, df['temp'], color = 'C0')\n",
        "ax2 = ax.twinx()\n",
        "ax2.plot(df.index, df['cumpercentage'], color = 'C1', marker = 'D', ms = 7)\n",
        "ax2.yaxis.set_major_formatter(PercentFormatter())\n",
        "ax.tick_params(axis = 'y', color = 'C0')\n",
        "ax2.tick_params(axis = 'y', colors = 'C1')\n",
        "plt.show()"
      ],
      "metadata": {
        "colab": {
          "base_uri": "https://localhost:8080/",
          "height": 266
        },
        "id": "s3rmeaZXMmSM",
        "outputId": "9c8b4d17-9c85-4af1-e6b5-7dc0406148ee"
      },
      "execution_count": null,
      "outputs": [
        {
          "output_type": "display_data",
          "data": {
            "text/plain": [
              "<Figure size 432x288 with 2 Axes>"
            ],
            "image/png": "[encoded data removed]"
          },
          "metadata": {}
        }
      ]
    },
    {
      "cell_type": "code",
      "source": [],
      "metadata": {
        "id": "j9frOojiQoer"
      },
      "execution_count": null,
      "outputs": []
    },
    {
      "cell_type": "markdown",
      "source": [
        "5. One of the assignments for Day 2 of Week 1 was on covariance and correlation coefficient. Now it' time to discuss those concepts in Python. Construct a Python document on covariance and correlation coefficient using your own dataset (the one you used in the assignment for Day 2). This document should include the following:\n",
        "\n",
        "a) Codes for covariance (pure Python codes and codes in which some libraries used),\n",
        "\n",
        "b) Codes for correlation coefficient (pure Python codes and codes in which some libraries used),\n",
        "\n",
        "c) The Heatmaps (the covariance and correlation coefficient matrices) for your data, and\n",
        "\n",
        "d) your interpretations on what you've obtained."
      ],
      "metadata": {
        "id": "WqylidwCv2RN"
      }
    },
    {
      "cell_type": "code",
      "source": [
        " # pure python codes for covariance\n",
        "x = [8, 14, 10, 16, 6, 18, 12, 4, 9, 5]\n",
        "y = [40, 64, 36, 76, 28, 74, 60, 24, 27, 26]\n",
        "x_mean = sum(x)/float(len(x))\n",
        "y_mean = sum(y)/float(len(y))\n",
        "x_sub = [i - x_mean for i in x]\n",
        "y_sub = [i - y_mean for i in y]\n",
        "numer = sum([y_sub[i] * x_sub[i] for i in range (len(x))])\n",
        "denom = float(len(x) - 1)\n",
        "cov = numer/denom\n",
        "print (cov)\n"
      ],
      "metadata": {
        "colab": {
          "base_uri": "https://localhost:8080/"
        },
        "id": "Oel7rLBpv4is",
        "outputId": "8be7ea43-97d0-4ba6-cfc9-0a9cab4c124c"
      },
      "execution_count": 2,
      "outputs": [
        {
          "output_type": "stream",
          "name": "stdout",
          "text": [
            "93.33333333333331\n"
          ]
        }
      ]
    },
    {
      "cell_type": "code",
      "source": [
        "from logging import raiseExceptions\n",
        "# codes for covariance using libraries\n",
        "import numpy as np\n",
        "arr = np.array([8, 14, 10, 16, 6, 18, 12, 4, 9, 5],\n",
        "[40, 64, 36, 76, 28, 74, 60, 24, 27, 26])\n",
        "length = len(arr[0])\n",
        "x = [1 for a in arr if len(a)!=length]\n",
        "if (sum(x)>0):\n",
        "  raiseExceptions(f'length of vectors not same')\n",
        "\n",
        "cov = [[ ]]\n"
      ],
      "metadata": {
        "colab": {
          "base_uri": "https://localhost:8080/",
          "height": 235
        },
        "id": "1begYKQ62aNQ",
        "outputId": "706d10a7-4ebe-4191-dd96-dda848d4e4d1"
      },
      "execution_count": 11,
      "outputs": [
        {
          "output_type": "error",
          "ename": "TypeError",
          "evalue": "ignored",
          "traceback": [
            "\u001b[0;31m---------------------------------------------------------------------------\u001b[0m",
            "\u001b[0;31mTypeError\u001b[0m                                 Traceback (most recent call last)",
            "\u001b[0;32m<ipython-input-11-6772a809bb82>\u001b[0m in \u001b[0;36m<module>\u001b[0;34m\u001b[0m\n\u001b[1;32m      3\u001b[0m \u001b[0;32mimport\u001b[0m \u001b[0mnumpy\u001b[0m \u001b[0;32mas\u001b[0m \u001b[0mnp\u001b[0m\u001b[0;34m\u001b[0m\u001b[0;34m\u001b[0m\u001b[0m\n\u001b[1;32m      4\u001b[0m arr = np.array([8, 14, 10, 16, 6, 18, 12, 4, 9, 5],\n\u001b[0;32m----> 5\u001b[0;31m [40, 64, 36, 76, 28, 74, 60, 24, 27, 26])\n\u001b[0m\u001b[1;32m      6\u001b[0m \u001b[0mlength\u001b[0m \u001b[0;34m=\u001b[0m \u001b[0mlen\u001b[0m\u001b[0;34m(\u001b[0m\u001b[0marr\u001b[0m\u001b[0;34m[\u001b[0m\u001b[0;36m0\u001b[0m\u001b[0;34m]\u001b[0m\u001b[0;34m)\u001b[0m\u001b[0;34m\u001b[0m\u001b[0;34m\u001b[0m\u001b[0m\n\u001b[1;32m      7\u001b[0m \u001b[0mx\u001b[0m \u001b[0;34m=\u001b[0m \u001b[0;34m[\u001b[0m\u001b[0;36m1\u001b[0m \u001b[0;32mfor\u001b[0m \u001b[0ma\u001b[0m \u001b[0;32min\u001b[0m \u001b[0marr\u001b[0m \u001b[0;32mif\u001b[0m \u001b[0mlen\u001b[0m\u001b[0;34m(\u001b[0m\u001b[0ma\u001b[0m\u001b[0;34m)\u001b[0m\u001b[0;34m!=\u001b[0m\u001b[0mlength\u001b[0m\u001b[0;34m]\u001b[0m\u001b[0;34m\u001b[0m\u001b[0;34m\u001b[0m\u001b[0m\n",
            "\u001b[0;31mTypeError\u001b[0m: Field elements must be 2- or 3-tuples, got '40'"
          ]
        }
      ]
    },
    {
      "cell_type": "code",
      "source": [
        "# Codes for correlation coefficient (pure Python codes and codes in which some libraries used\n",
        "import numpy as np\n",
        "x = np.array([8, 14, 10, 16, 6, 18, 12, 4, 9, 5])\n",
        "y = np.array ([40, 64, 36, 76, 28, 74, 60, 24, 27, 26])\n",
        "corrcoef_matrix = np.corrcoef(x, y)\n",
        "corrcoef_matrix"
      ],
      "metadata": {
        "colab": {
          "base_uri": "https://localhost:8080/"
        },
        "id": "7dSnVK5h34ju",
        "outputId": "1a65a641-d49c-400b-a5dc-db7aeb962f05"
      },
      "execution_count": 12,
      "outputs": [
        {
          "output_type": "execute_result",
          "data": {
            "text/plain": [
              "array([[1.        , 0.94654248],\n",
              "       [0.94654248, 1.        ]])"
            ]
          },
          "metadata": {},
          "execution_count": 12
        }
      ]
    },
    {
      "cell_type": "code",
      "source": [
        "corrcoef = np.corrcoef(x, y)[0, 1]\n",
        "corrcoef"
      ],
      "metadata": {
        "colab": {
          "base_uri": "https://localhost:8080/"
        },
        "id": "hbPLXdIr8AVF",
        "outputId": "c2e83f84-1c2f-4b17-f075-8f343441b8be"
      },
      "execution_count": 13,
      "outputs": [
        {
          "output_type": "execute_result",
          "data": {
            "text/plain": [
              "0.9465424764213073"
            ]
          },
          "metadata": {},
          "execution_count": 13
        }
      ]
    },
    {
      "cell_type": "code",
      "source": [],
      "metadata": {
        "id": "jUBh6faF8X4q"
      },
      "execution_count": null,
      "outputs": []
    }
  ],
  "metadata": {
    "colab": {
      "provenance": []
    },
    "kernelspec": {
      "display_name": "Python 3",
      "name": "python3"
    },
    "language_info": {
      "name": "python"
    }
  },
  "nbformat": 4,
  "nbformat_minor": 0
}