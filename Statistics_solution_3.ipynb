{
  "nbformat": 4,
  "nbformat_minor": 0,
  "metadata": {
    "colab": {
      "provenance": []
    },
    "kernelspec": {
      "name": "python3",
      "display_name": "Python 3"
    },
    "language_info": {
      "name": "python"
    }
  },
  "cells": [
    {
      "cell_type": "markdown",
      "source": [
        "Construct a Python document for the following example: A school purchases 2 computers from a shipment of 20 computers containing 3 defectives and 17 nondefectives. Try to obtain the values of the probability mass function, mean, and variance of the number of defective components purchased by the school.\n",
        "\n",
        " a. In the case you couldn't find out that the random variable has a hypergeometric distribution (with i. pure Python codes and ii. using SymPy FiniteRV), "
      ],
      "metadata": {
        "id": "PbzYL5Yd4kAS"
      }
    },
    {
      "cell_type": "code",
      "source": [
        "import numpy as np"
      ],
      "metadata": {
        "id": "0qhxwD5-HXDJ"
      },
      "execution_count": 1,
      "outputs": []
    },
    {
      "cell_type": "code",
      "execution_count": 33,
      "metadata": {
        "colab": {
          "base_uri": "https://localhost:8080/"
        },
        "id": "57ouPSf34bV5",
        "outputId": "98014707-f904-412f-c56e-195e5f4e3340"
      },
      "outputs": [
        {
          "output_type": "stream",
          "name": "stdout",
          "text": [
            "probability of non defective:  0.85 \n",
            " probability of defective:  0.15\n"
          ]
        }
      ],
      "source": [
        "#1ai. \n",
        "\n",
        "p_nondefective= 17/20\n",
        "p_defective = 3/20\n",
        "print('probability of non defective: ',p_nondefective,'\\n', 'probability of defective: ',p_defective)\n",
        "x = np.array([0, 1, 2])\n",
        "def pmf(x):\n",
        "    if x==0:\n",
        "        return p_nondefective**2\n",
        "    elif x ==1:\n",
        "        return 2*p_defective * p_nondefective\n",
        "    else:\n",
        "        return p_defective**2\n",
        "\n",
        "\n"
      ]
    },
    {
      "cell_type": "code",
      "source": [
        "for i in x:\n",
        "    print(pmf(i))"
      ],
      "metadata": {
        "colab": {
          "base_uri": "https://localhost:8080/"
        },
        "id": "CY1TMfxWg2PQ",
        "outputId": "a52621b6-ede5-4e84-fe42-ad779bce6c0f"
      },
      "execution_count": 35,
      "outputs": [
        {
          "output_type": "stream",
          "name": "stdout",
          "text": [
            "0.7224999999999999\n",
            "0.255\n",
            "0.0225\n"
          ]
        }
      ]
    },
    {
      "cell_type": "code",
      "source": [
        "for i in x:\n",
        "    print(round(pmf(i),4))\n"
      ],
      "metadata": {
        "colab": {
          "base_uri": "https://localhost:8080/"
        },
        "id": "RJNRdv-3K_Gf",
        "outputId": "6f368995-c79d-416a-f951-15767579fe05"
      },
      "execution_count": 36,
      "outputs": [
        {
          "output_type": "stream",
          "name": "stdout",
          "text": [
            "0.7225\n",
            "0.255\n",
            "0.0225\n"
          ]
        }
      ]
    },
    {
      "cell_type": "code",
      "source": [
        "pmf(2)"
      ],
      "metadata": {
        "colab": {
          "base_uri": "https://localhost:8080/"
        },
        "id": "04Uvropcg9tq",
        "outputId": "6d3d01bb-4c3a-4b11-82f5-bf831127a9a8"
      },
      "execution_count": 37,
      "outputs": [
        {
          "output_type": "execute_result",
          "data": {
            "text/plain": [
              "0.0225"
            ]
          },
          "metadata": {},
          "execution_count": 37
        }
      ]
    },
    {
      "cell_type": "code",
      "source": [
        "sum(pmf(i) for i in x)\n"
      ],
      "metadata": {
        "colab": {
          "base_uri": "https://localhost:8080/"
        },
        "id": "B4bKhRwDIfBa",
        "outputId": "e023eba0-ad8a-4e45-eb50-c5274a371cf2"
      },
      "execution_count": 38,
      "outputs": [
        {
          "output_type": "execute_result",
          "data": {
            "text/plain": [
              "0.9999999999999999"
            ]
          },
          "metadata": {},
          "execution_count": 38
        }
      ]
    },
    {
      "cell_type": "code",
      "source": [
        "for i in x:\n",
        "    print(pmf(i)>=0)"
      ],
      "metadata": {
        "colab": {
          "base_uri": "https://localhost:8080/"
        },
        "id": "Sj0P20bvIpbU",
        "outputId": "0d0a8ad5-6045-4a1d-9255-e2c56e53f719"
      },
      "execution_count": 39,
      "outputs": [
        {
          "output_type": "stream",
          "name": "stdout",
          "text": [
            "True\n",
            "True\n",
            "True\n"
          ]
        }
      ]
    },
    {
      "cell_type": "code",
      "source": [
        "pmf_X = np.array(list(pmf(i) for i in x))\n",
        "\n",
        "\n"
      ],
      "metadata": {
        "id": "29Lrh5hy5DoS"
      },
      "execution_count": 40,
      "outputs": []
    },
    {
      "cell_type": "code",
      "source": [
        "pmf_X\n"
      ],
      "metadata": {
        "colab": {
          "base_uri": "https://localhost:8080/"
        },
        "id": "K_I3EvFNI5Zh",
        "outputId": "1488fa3e-5086-4b14-be3e-08ba562ca833"
      },
      "execution_count": 41,
      "outputs": [
        {
          "output_type": "execute_result",
          "data": {
            "text/plain": [
              "array([0.7225, 0.255 , 0.0225])"
            ]
          },
          "metadata": {},
          "execution_count": 41
        }
      ]
    },
    {
      "cell_type": "code",
      "source": [
        "#Expected values or the mean of x \n",
        "E_X = np.sum(x*pmf_X)\n",
        "E_X\n"
      ],
      "metadata": {
        "colab": {
          "base_uri": "https://localhost:8080/"
        },
        "id": "dFYIXp9MJA3q",
        "outputId": "1fff72e2-26cd-465d-cb84-34a6d6270e82"
      },
      "execution_count": 42,
      "outputs": [
        {
          "output_type": "execute_result",
          "data": {
            "text/plain": [
              "0.3"
            ]
          },
          "metadata": {},
          "execution_count": 42
        }
      ]
    },
    {
      "cell_type": "code",
      "source": [
        "Var_X = np.sum(x**2*pmf_X) - (E_X)**2\n",
        "Var_X"
      ],
      "metadata": {
        "colab": {
          "base_uri": "https://localhost:8080/"
        },
        "id": "v8ykAGfrEr5F",
        "outputId": "ad5d10a2-3cce-4dce-9db3-9d1d8917e241"
      },
      "execution_count": 43,
      "outputs": [
        {
          "output_type": "execute_result",
          "data": {
            "text/plain": [
              "0.255"
            ]
          },
          "metadata": {},
          "execution_count": 43
        }
      ]
    },
    {
      "cell_type": "code",
      "source": [
        "#1aii. \n",
        "from sympy.stats import FiniteRV, P, E, variance\n",
        "\n",
        "\n",
        "\n"
      ],
      "metadata": {
        "id": "bypq-MGU5HmZ"
      },
      "execution_count": 44,
      "outputs": []
    },
    {
      "cell_type": "code",
      "source": [
        "sympy_pmf = {0: 0.7225, 1: 0.2550, 2: 0.0225}\n",
        "X = FiniteRV('X', sympy_pmf)\n"
      ],
      "metadata": {
        "id": "jVCewv2aLRzL"
      },
      "execution_count": 45,
      "outputs": []
    },
    {
      "cell_type": "code",
      "source": [
        "P(X<1)\n"
      ],
      "metadata": {
        "colab": {
          "base_uri": "https://localhost:8080/",
          "height": 37
        },
        "id": "ceQ9gLVHLeQr",
        "outputId": "e87256a6-9499-4226-9a96-e0818500045e"
      },
      "execution_count": 46,
      "outputs": [
        {
          "output_type": "execute_result",
          "data": {
            "text/plain": [
              "0.722500000000000"
            ],
            "text/latex": "$\\displaystyle 0.7225$"
          },
          "metadata": {},
          "execution_count": 46
        }
      ]
    },
    {
      "cell_type": "code",
      "source": [
        "P(X<=1) - P(X<=0)\n"
      ],
      "metadata": {
        "colab": {
          "base_uri": "https://localhost:8080/",
          "height": 37
        },
        "id": "PpDATwKhLl-t",
        "outputId": "0d08ddc1-0217-40ba-efb4-8ebf206bc8c5"
      },
      "execution_count": 13,
      "outputs": [
        {
          "output_type": "execute_result",
          "data": {
            "text/plain": [
              "0.255000000000000"
            ],
            "text/latex": "$\\displaystyle 0.255$"
          },
          "metadata": {},
          "execution_count": 13
        }
      ]
    },
    {
      "cell_type": "code",
      "source": [
        "P(X<=2) - P(X<=1)\n",
        "\n"
      ],
      "metadata": {
        "colab": {
          "base_uri": "https://localhost:8080/",
          "height": 37
        },
        "id": "SBgzO2iTLsLc",
        "outputId": "1f68740f-7965-455c-f9be-7c512721170a"
      },
      "execution_count": 14,
      "outputs": [
        {
          "output_type": "execute_result",
          "data": {
            "text/plain": [
              "0.0225000000000000"
            ],
            "text/latex": "$\\displaystyle 0.0225$"
          },
          "metadata": {},
          "execution_count": 14
        }
      ]
    },
    {
      "cell_type": "code",
      "source": [
        "# mean\n",
        "E(X)\n"
      ],
      "metadata": {
        "colab": {
          "base_uri": "https://localhost:8080/",
          "height": 37
        },
        "id": "ghZqFfoDLu6L",
        "outputId": "05dd8d5e-bd95-4e9b-ddc1-cfffc7a4a0a7"
      },
      "execution_count": 15,
      "outputs": [
        {
          "output_type": "execute_result",
          "data": {
            "text/plain": [
              "0.300000000000000"
            ],
            "text/latex": "$\\displaystyle 0.3$"
          },
          "metadata": {},
          "execution_count": 15
        }
      ]
    },
    {
      "cell_type": "code",
      "source": [
        "# Variance\n",
        "variance(X)"
      ],
      "metadata": {
        "colab": {
          "base_uri": "https://localhost:8080/",
          "height": 37
        },
        "id": "da2PWmkSEmhC",
        "outputId": "fff8848f-cf75-407c-b96d-e85c43cd4d78"
      },
      "execution_count": 16,
      "outputs": [
        {
          "output_type": "execute_result",
          "data": {
            "text/plain": [
              "0.255000000000000"
            ],
            "text/latex": "$\\displaystyle 0.255$"
          },
          "metadata": {},
          "execution_count": 16
        }
      ]
    },
    {
      "cell_type": "markdown",
      "source": [
        "b) In the case you found out that the random variable has a hypergeometric distribution but you don't know that the hypergeometric distribution is already defined in Python (with pure Python)"
      ],
      "metadata": {
        "id": "uFsU_8SB5Tms"
      }
    },
    {
      "cell_type": "code",
      "source": [
        "#1b. \n",
        "def factorial(x):\n",
        "    if x == 0 or x == 1:\n",
        "        return 1\n",
        "    elif x<0:\n",
        "        return \"Factorial is not defined for negative numbers!\"\n",
        "    else:\n",
        "        return x * factorial(x-1)\n",
        "\n",
        "def nCx(n, x):\n",
        "    return int(factorial(n) / (factorial(n-x)*factorial(x)))\n",
        "pmf = [ ]\n",
        "for i in x:\n",
        "    pmf.append(nCx(2, i)* 0.15**i * (1 - 0.15)**(2 - i))\n",
        "pmf\n",
        "\n"
      ],
      "metadata": {
        "colab": {
          "base_uri": "https://localhost:8080/"
        },
        "id": "eh1JC3wv5MyK",
        "outputId": "434568f0-fa1a-4878-fb7f-5a1ad4f7d01b"
      },
      "execution_count": 17,
      "outputs": [
        {
          "output_type": "execute_result",
          "data": {
            "text/plain": [
              "[0.7224999999999999, 0.255, 0.0225]"
            ]
          },
          "metadata": {},
          "execution_count": 17
        }
      ]
    },
    {
      "cell_type": "code",
      "source": [
        "#for the mean\n",
        "\n",
        "pmf_X = np.array(pmf)\n",
        "pmf_X\n",
        "\n"
      ],
      "metadata": {
        "colab": {
          "base_uri": "https://localhost:8080/"
        },
        "id": "OAcCDIlRE0c2",
        "outputId": "c16790f9-afc6-43a4-e97b-7505e6b26792"
      },
      "execution_count": 18,
      "outputs": [
        {
          "output_type": "execute_result",
          "data": {
            "text/plain": [
              "array([0.7225, 0.255 , 0.0225])"
            ]
          },
          "metadata": {},
          "execution_count": 18
        }
      ]
    },
    {
      "cell_type": "code",
      "source": [
        "E_X = 2*0.15\n",
        "E_X\n",
        "\n"
      ],
      "metadata": {
        "colab": {
          "base_uri": "https://localhost:8080/"
        },
        "id": "hxzEjJ8oE6nW",
        "outputId": "808edda2-4357-4699-db4a-2d3b5bbff82a"
      },
      "execution_count": 19,
      "outputs": [
        {
          "output_type": "execute_result",
          "data": {
            "text/plain": [
              "0.3"
            ]
          },
          "metadata": {},
          "execution_count": 19
        }
      ]
    },
    {
      "cell_type": "code",
      "source": [
        "#for the variance\n",
        "\n",
        "Var_X = 2*0.15*(1-0.15)\n",
        "Var_X\n"
      ],
      "metadata": {
        "colab": {
          "base_uri": "https://localhost:8080/"
        },
        "id": "m5rro44AE_jU",
        "outputId": "0f8c2038-7c0f-4a52-9c0a-83661384bd67"
      },
      "execution_count": 20,
      "outputs": [
        {
          "output_type": "execute_result",
          "data": {
            "text/plain": [
              "0.255"
            ]
          },
          "metadata": {},
          "execution_count": 20
        }
      ]
    },
    {
      "cell_type": "markdown",
      "source": [
        "c) In the case you found out that the random variable has a hypergeometric distribution and you know that the hypergeometric distribution is already defined in Python (using i. SymPy Hypergeometric and ii. SciPy Hypergeometric). "
      ],
      "metadata": {
        "id": "o74aj6Zn5ySi"
      }
    },
    {
      "cell_type": "code",
      "source": [
        "#1ci. using sympy hypergeometric\n",
        "\n",
        "from sympy.stats import Hypergeometric, density \n",
        "\n"
      ],
      "metadata": {
        "id": "fL3erSzZ5qeh"
      },
      "execution_count": 21,
      "outputs": []
    },
    {
      "cell_type": "code",
      "source": [
        "X = Hypergeometric('X', 20, 2, 3) \n",
        "\n",
        "k = density(X).dict\n",
        "k\n"
      ],
      "metadata": {
        "colab": {
          "base_uri": "https://localhost:8080/"
        },
        "id": "0qUzsAvgL-gS",
        "outputId": "fd2e0f04-1315-4361-fb5d-3501a829a51b"
      },
      "execution_count": 22,
      "outputs": [
        {
          "output_type": "execute_result",
          "data": {
            "text/plain": [
              "{0: 68/95, 1: 51/190, 2: 3/190}"
            ]
          },
          "metadata": {},
          "execution_count": 22
        }
      ]
    },
    {
      "cell_type": "code",
      "source": [
        "#for the mean\n",
        "\n",
        "E(X)\n"
      ],
      "metadata": {
        "colab": {
          "base_uri": "https://localhost:8080/",
          "height": 51
        },
        "id": "dNDSR68zFIiT",
        "outputId": "6877f74e-612a-43c0-c25e-4fed121e650a"
      },
      "execution_count": 23,
      "outputs": [
        {
          "output_type": "execute_result",
          "data": {
            "text/plain": [
              "3/10"
            ],
            "text/latex": "$\\displaystyle \\frac{3}{10}$"
          },
          "metadata": {},
          "execution_count": 23
        }
      ]
    },
    {
      "cell_type": "code",
      "source": [
        "# for the variance\n",
        "\n",
        "variance(X)\n",
        "\n"
      ],
      "metadata": {
        "colab": {
          "base_uri": "https://localhost:8080/",
          "height": 51
        },
        "id": "xilIdiNFFR_I",
        "outputId": "11631dd9-82ec-4a96-e538-15ef8c6e7b33"
      },
      "execution_count": 24,
      "outputs": [
        {
          "output_type": "execute_result",
          "data": {
            "text/plain": [
              "459/1900"
            ],
            "text/latex": "$\\displaystyle \\frac{459}{1900}$"
          },
          "metadata": {},
          "execution_count": 24
        }
      ]
    },
    {
      "cell_type": "code",
      "source": [
        "#1cii. using Scipy hypergeometric\n",
        "#M is the total number of computers, N is total number of defectives. The random variate n represents the number of defectives drawn without replacement from the total population\n",
        "\n",
        "from scipy.stats import hypergeom\n",
        "import scipy\n",
        "[M, n, N] = [20, 2, 3]\n",
        "rv = hypergeom(M, n, N)\n",
        "x = np.arange(0, n+1)\n",
        "pmf_dogs = rv.pmf(x)\n",
        "pmf_dogs\n",
        "\n"
      ],
      "metadata": {
        "colab": {
          "base_uri": "https://localhost:8080/"
        },
        "id": "Nj2lRAZ-57BW",
        "outputId": "f792dff9-fad4-4977-c302-426ac72923b8"
      },
      "execution_count": 25,
      "outputs": [
        {
          "output_type": "execute_result",
          "data": {
            "text/plain": [
              "array([0.71578947, 0.26842105, 0.01578947])"
            ]
          },
          "metadata": {},
          "execution_count": 25
        }
      ]
    },
    {
      "cell_type": "code",
      "source": [
        "# mean \n",
        "\n",
        "mean= hypergeom.mean(M, n, N)\n",
        "mean\n"
      ],
      "metadata": {
        "colab": {
          "base_uri": "https://localhost:8080/"
        },
        "id": "caeJoJ-VFcYX",
        "outputId": "8eb2f4b7-3db3-484d-c4c9-9828cd900e30"
      },
      "execution_count": 26,
      "outputs": [
        {
          "output_type": "execute_result",
          "data": {
            "text/plain": [
              "0.30000000000000004"
            ]
          },
          "metadata": {},
          "execution_count": 26
        }
      ]
    },
    {
      "cell_type": "code",
      "source": [
        "# variance\n",
        "\n",
        "variance = hypergeom.var(M, n, N)\n",
        "variance\n"
      ],
      "metadata": {
        "colab": {
          "base_uri": "https://localhost:8080/"
        },
        "id": "rtXo4odWFhM8",
        "outputId": "9b53443c-880a-4697-dd3a-efae13d2c3b2"
      },
      "execution_count": 27,
      "outputs": [
        {
          "output_type": "execute_result",
          "data": {
            "text/plain": [
              "0.24157894736842106"
            ]
          },
          "metadata": {},
          "execution_count": 27
        }
      ]
    },
    {
      "cell_type": "markdown",
      "source": [
        "Construct a Python document for the following example: When a motorist stops at a red light at a certain intersection, the waiting time for the light to turn green (in seconds), is uniformly distributed on the interval (0, 30). Try to obtain some probabilities based on the waiting time of the motorist, mean, and variance of the waiting time.\n",
        "\n",
        "a) Using SymPy ContinuousRV,\n",
        "\n",
        "b) Using SymPy Uniform,\n",
        "\n",
        "c) Using SciPy Uniform."
      ],
      "metadata": {
        "id": "QDbSBaK36DVK"
      }
    },
    {
      "cell_type": "code",
      "source": [
        "#a) Using SymPy ContinuousRV,\n",
        "\n",
        "from sympy import Interval, cos\n",
        "from sympy.stats import ContinuousRV\n",
        "from sympy import Symbol\n",
        "\n"
      ],
      "metadata": {
        "id": "he2bIWRI5_2v"
      },
      "execution_count": 52,
      "outputs": []
    },
    {
      "cell_type": "code",
      "source": [
        "#mean \n",
        "mean = E(X)\n",
        "mean\n"
      ],
      "metadata": {
        "colab": {
          "base_uri": "https://localhost:8080/",
          "height": 37
        },
        "id": "QPfIdijvFtMR",
        "outputId": "fbcef71a-90a6-4674-9350-be1d66296a0b"
      },
      "execution_count": 54,
      "outputs": [
        {
          "output_type": "execute_result",
          "data": {
            "text/plain": [
              "15.0000000000000"
            ],
            "text/latex": "$\\displaystyle 15.0$"
          },
          "metadata": {},
          "execution_count": 54
        }
      ]
    },
    {
      "cell_type": "code",
      "source": [
        "variance(X)\n"
      ],
      "metadata": {
        "colab": {
          "base_uri": "https://localhost:8080/",
          "height": 37
        },
        "id": "n9N2_n60FxIc",
        "outputId": "91f8ea1e-e8c3-470a-8065-1e317d7f59e8"
      },
      "execution_count": 55,
      "outputs": [
        {
          "output_type": "execute_result",
          "data": {
            "text/plain": [
              "75.0000000000000"
            ],
            "text/latex": "$\\displaystyle 75.0$"
          },
          "metadata": {},
          "execution_count": 55
        }
      ]
    },
    {
      "cell_type": "code",
      "source": [
        "# Using sympy.stats.Uniform() method\n",
        "from sympy.stats import Uniform, density"
      ],
      "metadata": {
        "id": "XvL7EqGy6RPF"
      },
      "execution_count": 63,
      "outputs": []
    },
    {
      "cell_type": "code",
      "source": [
        "# Import sympy and Uniform\n",
        "from sympy.stats import Uniform, density\n",
        "from sympy import Symbol, pprint\n",
        "  \n",
        "z = 2\n",
        "a = 0\n",
        "b = 30\n",
        "  \n",
        "# Using sympy.stats.Uniform() method\n",
        "X = Uniform(\"x\", a, b)\n",
        "gfg = density(X)(z)\n",
        "  \n",
        "pprint(gfg)"
      ],
      "metadata": {
        "colab": {
          "base_uri": "https://localhost:8080/"
        },
        "id": "28rlKWn96oYv",
        "outputId": "b7751826-2587-4dba-834a-2557ca4cb9b7"
      },
      "execution_count": 64,
      "outputs": [
        {
          "output_type": "stream",
          "name": "stdout",
          "text": [
            "1/30\n"
          ]
        }
      ]
    },
    {
      "cell_type": "code",
      "source": [
        "E(X)\n"
      ],
      "metadata": {
        "colab": {
          "base_uri": "https://localhost:8080/",
          "height": 37
        },
        "id": "EZTWES40MXfV",
        "outputId": "552083a0-b958-416b-f6a8-09afabb1357a"
      },
      "execution_count": 65,
      "outputs": [
        {
          "output_type": "execute_result",
          "data": {
            "text/plain": [
              "15"
            ],
            "text/latex": "$\\displaystyle 15$"
          },
          "metadata": {},
          "execution_count": 65
        }
      ]
    },
    {
      "cell_type": "code",
      "source": [
        "variance(X)\n"
      ],
      "metadata": {
        "colab": {
          "base_uri": "https://localhost:8080/",
          "height": 37
        },
        "id": "UU_nhl-lMbQZ",
        "outputId": "8ba49053-c1aa-4faa-e045-f7bbd1c960d4"
      },
      "execution_count": 66,
      "outputs": [
        {
          "output_type": "execute_result",
          "data": {
            "text/plain": [
              "75"
            ],
            "text/latex": "$\\displaystyle 75$"
          },
          "metadata": {},
          "execution_count": 66
        }
      ]
    },
    {
      "cell_type": "code",
      "source": [
        "# Using sympy.stats.Uniform() method\n",
        "X = Uniform(x, 0, 30)\n",
        "gfg = density(X)(x)\n",
        "pprint(gfg)"
      ],
      "metadata": {
        "id": "78wIT3r-MdAo",
        "colab": {
          "base_uri": "https://localhost:8080/"
        },
        "outputId": "27e93b31-6ab7-4396-cfd3-b4273d0d7d2c"
      },
      "execution_count": 67,
      "outputs": [
        {
          "output_type": "stream",
          "name": "stdout",
          "text": [
            "⎧1/30  for X ≥ 0 ∧ X ≤ 30\n",
            "⎨                        \n",
            "⎩ 0        otherwise     \n"
          ]
        }
      ]
    },
    {
      "cell_type": "code",
      "source": [
        "density(X)(2)"
      ],
      "metadata": {
        "colab": {
          "base_uri": "https://localhost:8080/",
          "height": 51
        },
        "id": "5DBx_PnNjn-0",
        "outputId": "d2919e1b-c6b9-4711-e050-16469d7a46b2"
      },
      "execution_count": 68,
      "outputs": [
        {
          "output_type": "execute_result",
          "data": {
            "text/plain": [
              "1/30"
            ],
            "text/latex": "$\\displaystyle \\frac{1}{30}$"
          },
          "metadata": {},
          "execution_count": 68
        }
      ]
    },
    {
      "cell_type": "code",
      "source": [
        "E(X)"
      ],
      "metadata": {
        "colab": {
          "base_uri": "https://localhost:8080/",
          "height": 37
        },
        "id": "WlkJ-f9ljtDz",
        "outputId": "31fe568d-0108-4055-d0d7-3403f10a484c"
      },
      "execution_count": 69,
      "outputs": [
        {
          "output_type": "execute_result",
          "data": {
            "text/plain": [
              "15"
            ],
            "text/latex": "$\\displaystyle 15$"
          },
          "metadata": {},
          "execution_count": 69
        }
      ]
    },
    {
      "cell_type": "code",
      "source": [
        "variance(X)"
      ],
      "metadata": {
        "colab": {
          "base_uri": "https://localhost:8080/",
          "height": 37
        },
        "id": "EdzGiKGrjxra",
        "outputId": "1d35d28c-3c58-4805-8931-f7b967f7c496"
      },
      "execution_count": 70,
      "outputs": [
        {
          "output_type": "execute_result",
          "data": {
            "text/plain": [
              "75"
            ],
            "text/latex": "$\\displaystyle 75$"
          },
          "metadata": {},
          "execution_count": 70
        }
      ]
    },
    {
      "cell_type": "code",
      "source": [
        "from scipy.stats import uniform"
      ],
      "metadata": {
        "id": "00V7LUKZj3tX"
      },
      "execution_count": null,
      "outputs": []
    },
    {
      "cell_type": "code",
      "source": [
        "a, b = 0.0, 30.0\n",
        "rv = uniform(a, b)\n",
        "rv\n"
      ],
      "metadata": {
        "colab": {
          "base_uri": "https://localhost:8080/"
        },
        "id": "_bZ4sKz-Wqhn",
        "outputId": "cb781944-60e8-4d21-f7b6-4ab1ea0af8ff"
      },
      "execution_count": 71,
      "outputs": [
        {
          "output_type": "execute_result",
          "data": {
            "text/plain": [
              "<scipy.stats._distn_infrastructure.rv_frozen at 0x7f02fdcf54d0>"
            ]
          },
          "metadata": {},
          "execution_count": 71
        }
      ]
    },
    {
      "cell_type": "code",
      "source": [
        "R = uniform.rvs(a, b, size = 30)\n",
        "R"
      ],
      "metadata": {
        "colab": {
          "base_uri": "https://localhost:8080/"
        },
        "id": "rI-4kEjmXSxL",
        "outputId": "89ba34a2-2d92-4352-d64b-414659d88faa"
      },
      "execution_count": 72,
      "outputs": [
        {
          "output_type": "execute_result",
          "data": {
            "text/plain": [
              "array([ 5.93393013,  3.29279947, 28.57874193, 13.54505489, 20.86959491,\n",
              "       23.91456927,  7.69084769, 25.52873999, 11.39964659, 10.78362483,\n",
              "        0.49921781, 22.702463  , 23.29301604,  9.17180262, 21.47242619,\n",
              "       23.38775192, 13.53415555, 16.28425715,  8.76672035,  8.30010395,\n",
              "       20.62432691, 22.34698302, 27.28199146, 17.70697414, 27.90431485,\n",
              "        7.94499366, 29.67604401, 23.80845875, 25.26471543,  9.66390854])"
            ]
          },
          "metadata": {},
          "execution_count": 72
        }
      ]
    },
    {
      "cell_type": "code",
      "source": [
        "x = np.linspace(uniform.ppf(0.01, a, b), uniform.ppf(0.99, a, b), 30)\n",
        "R = uniform.pdf(x, 0, 30)\n",
        "R"
      ],
      "metadata": {
        "colab": {
          "base_uri": "https://localhost:8080/"
        },
        "id": "6XC16i1NZcH9",
        "outputId": "ffeab23c-adf0-4552-c760-893f70630ca9"
      },
      "execution_count": 73,
      "outputs": [
        {
          "output_type": "execute_result",
          "data": {
            "text/plain": [
              "array([0.03333333, 0.03333333, 0.03333333, 0.03333333, 0.03333333,\n",
              "       0.03333333, 0.03333333, 0.03333333, 0.03333333, 0.03333333,\n",
              "       0.03333333, 0.03333333, 0.03333333, 0.03333333, 0.03333333,\n",
              "       0.03333333, 0.03333333, 0.03333333, 0.03333333, 0.03333333,\n",
              "       0.03333333, 0.03333333, 0.03333333, 0.03333333, 0.03333333,\n",
              "       0.03333333, 0.03333333, 0.03333333, 0.03333333, 0.03333333])"
            ]
          },
          "metadata": {},
          "execution_count": 73
        }
      ]
    },
    {
      "cell_type": "code",
      "source": [
        "E(X)"
      ],
      "metadata": {
        "colab": {
          "base_uri": "https://localhost:8080/",
          "height": 37
        },
        "id": "OGTg7VA8Z8oO",
        "outputId": "a4e93dca-7fab-47cb-8d44-0ab5105decbf"
      },
      "execution_count": 74,
      "outputs": [
        {
          "output_type": "execute_result",
          "data": {
            "text/plain": [
              "15"
            ],
            "text/latex": "$\\displaystyle 15$"
          },
          "metadata": {},
          "execution_count": 74
        }
      ]
    },
    {
      "cell_type": "code",
      "source": [
        "variance(X)"
      ],
      "metadata": {
        "colab": {
          "base_uri": "https://localhost:8080/",
          "height": 37
        },
        "id": "-I2fs_OkathZ",
        "outputId": "d8f0cc2c-3ef1-4f42-875c-cbdab0f4d7a5"
      },
      "execution_count": 75,
      "outputs": [
        {
          "output_type": "execute_result",
          "data": {
            "text/plain": [
              "75"
            ],
            "text/latex": "$\\displaystyle 75$"
          },
          "metadata": {},
          "execution_count": 75
        }
      ]
    }
  ]
}