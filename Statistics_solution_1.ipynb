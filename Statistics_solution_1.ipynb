{
  "nbformat": 4,
  "nbformat_minor": 0,
  "metadata": {
    "colab": {
      "provenance": []
    },
    "kernelspec": {
      "name": "python3",
      "display_name": "Python 3"
    },
    "language_info": {
      "name": "python"
    }
  },
  "cells": [
    {
      "cell_type": "markdown",
      "source": [
        "Sketch the histograms for the frequency distribution table and the stem – and – leaf display."
      ],
      "metadata": {
        "id": "y4lHVfTCezmx"
      }
    },
    {
      "cell_type": "code",
      "execution_count": 1,
      "metadata": {
        "id": "wKrhe7Oz-3X9"
      },
      "outputs": [],
      "source": [
        "import math\n",
        "import statistics\n",
        "import numpy as np\n",
        "import scipy.stats\n",
        "import pandas as pd\n",
        "import matplotlib.pyplot as plt"
      ]
    },
    {
      "cell_type": "markdown",
      "source": [
        "Sketch the histograms for the frequency distribution table"
      ],
      "metadata": {
        "id": "vMpbCjXIfBTl"
      }
    },
    {
      "cell_type": "code",
      "source": [
        "score = [32, 12, 47, 19, 20, 89, 76, 43, 45, 65, 78, 54, 82, 81, 73, 77, 34, 38, 18, 63, 84, 11, 23, 48, 90, 71, 61, 49, 50, 70]\n",
        "hist, bin_edges = np.histogram(score, bins = 6)\n",
        "hist"
      ],
      "metadata": {
        "colab": {
          "base_uri": "https://localhost:8080/"
        },
        "id": "Wo63CisW_Fjj",
        "outputId": "4a9fa017-f982-4ee2-af13-52e8668e3865"
      },
      "execution_count": 2,
      "outputs": [
        {
          "output_type": "execute_result",
          "data": {
            "text/plain": [
              "array([6, 2, 7, 3, 5, 7])"
            ]
          },
          "metadata": {},
          "execution_count": 2
        }
      ]
    },
    {
      "cell_type": "code",
      "source": [
        "bin_edges"
      ],
      "metadata": {
        "colab": {
          "base_uri": "https://localhost:8080/"
        },
        "id": "pSov1_qMChwC",
        "outputId": "a1809b20-f310-4a7e-b20a-009f1b102fb4"
      },
      "execution_count": 3,
      "outputs": [
        {
          "output_type": "execute_result",
          "data": {
            "text/plain": [
              "array([11.        , 24.16666667, 37.33333333, 50.5       , 63.66666667,\n",
              "       76.83333333, 90.        ])"
            ]
          },
          "metadata": {},
          "execution_count": 3
        }
      ]
    },
    {
      "cell_type": "code",
      "source": [
        "fig, ax = plt.subplots()\n",
        "ax.hist(score, bin_edges, cumulative = False)\n",
        "ax.set_xlabel('score')\n",
        "ax.set_ylabel('Frequency')\n",
        "plt.show()"
      ],
      "metadata": {
        "colab": {
          "base_uri": "https://localhost:8080/",
          "height": 279
        },
        "id": "ewe8AQHxGi1J",
        "outputId": "3c8155f7-1ac8-4d36-c762-12eccd0e013f"
      },
      "execution_count": 4,
      "outputs": [
        {
          "output_type": "display_data",
          "data": {
            "text/plain": [
              "<Figure size 432x288 with 1 Axes>"
            ],
            "image/png": "[encoded data removed]"
          },
          "metadata": {
            "needs_background": "light"
          }
        }
      ]
    },
    {
      "cell_type": "code",
      "source": [],
      "metadata": {
        "id": "zjlUUlcHHBr1"
      },
      "execution_count": null,
      "outputs": []
    },
    {
      "cell_type": "markdown",
      "source": [
        "The stem – and – leaf display"
      ],
      "metadata": {
        "id": "3F8pQ747fHls"
      }
    },
    {
      "cell_type": "code",
      "source": [
        "import matplotlib.pyplot as plt"
      ],
      "metadata": {
        "id": "8wEWUy6OfPSq"
      },
      "execution_count": 5,
      "outputs": []
    },
    {
      "cell_type": "code",
      "source": [
        "score = [32, 12, 47, 19, 20, 89, 76, 43, 45, 65, 78, 54, 82, 81, 73, 77, 34, 38, 18, 63, 84, 11, 23, 48, 90, 71, 61, 49, 50, 70]\n",
        "stems = [1, 1, 1, 1, 2, 2, 3, 3, 3, 4, 4, 4, 4, 4, 5, 5, 6, 6, 6, 7, 7, 7, 7, 7, 7, 8, 8, 8, 8, 9]\n",
        "plt.ylabel('Score')\n",
        "plt.xlabel('Stem')\n",
        "plt.xlim(0, 10)\n",
        "plt.stem(stems, score)"
      ],
      "metadata": {
        "colab": {
          "base_uri": "https://localhost:8080/",
          "height": 351
        },
        "id": "NY4pGpMLiDVJ",
        "outputId": "2e08d054-1292-4bc0-a2b6-72a286dc94d2"
      },
      "execution_count": 6,
      "outputs": [
        {
          "output_type": "stream",
          "name": "stderr",
          "text": [
            "/usr/local/lib/python3.7/dist-packages/ipykernel_launcher.py:6: UserWarning: In Matplotlib 3.3 individual lines on a stem plot will be added as a LineCollection instead of individual lines. This significantly improves the performance of a stem plot. To remove this warning and switch to the new behaviour, set the \"use_line_collection\" keyword argument to True.\n",
            "  \n"
          ]
        },
        {
          "output_type": "execute_result",
          "data": {
            "text/plain": [
              "<StemContainer object of 3 artists>"
            ]
          },
          "metadata": {},
          "execution_count": 6
        },
        {
          "output_type": "display_data",
          "data": {
            "text/plain": [
              "<Figure size 432x288 with 1 Axes>"
            ],
            "image/png": "[encoded data removed]"
          },
          "metadata": {
            "needs_background": "light"
          }
        }
      ]
    },
    {
      "cell_type": "markdown",
      "source": [
        "The highest frequency in the frequency distribution table occured between 40 – 54 and 70 - 84, meanwhile in the stem and leaf, the highest frequency occured at stem 2 and stem 7.\n",
        "\n",
        "Both the frequency distribution table and the stem-and-leaf display are negatively skewed."
      ],
      "metadata": {
        "id": "myeorAcmoSzf"
      }
    },
    {
      "cell_type": "code",
      "source": [],
      "metadata": {
        "id": "mplunZyflK9w"
      },
      "execution_count": null,
      "outputs": []
    },
    {
      "cell_type": "markdown",
      "source": [
        "Scatter Plot of Question 2"
      ],
      "metadata": {
        "id": "cm0F3KUBRUmg"
      }
    },
    {
      "cell_type": "code",
      "source": [
        "number_of_boys = [8, 14, 10, 16, 6, 18, 12, 4, 9, 5]\n",
        "marks_scored = [40, 64, 36, 76, 28, 74, 60, 24, 27, 26]\n",
        "fig, ax = plt.subplots()\n",
        "ax.plot(marks_scored, number_of_boys, linewidth=0, marker = 's', label = 'Data points')\n",
        "ax.set_xlabel('marks_scored')\n",
        "ax.set_ylabel('number_of_boys')\n",
        "ax.legend(facecolor='white')\n",
        "plt.show()"
      ],
      "metadata": {
        "colab": {
          "base_uri": "https://localhost:8080/",
          "height": 280
        },
        "id": "7BTFYAfCRUCp",
        "outputId": "ea897bb0-490d-41f3-b62f-44c59f89184b"
      },
      "execution_count": 8,
      "outputs": [
        {
          "output_type": "display_data",
          "data": {
            "text/plain": [
              "<Figure size 432x288 with 1 Axes>"
            ],
            "image/png": "[encoded data removed]"
          },
          "metadata": {
            "needs_background": "light"
          }
        }
      ]
    },
    {
      "cell_type": "code",
      "source": [],
      "metadata": {
        "id": "GL2z-zlDTDuV"
      },
      "execution_count": null,
      "outputs": []
    },
    {
      "cell_type": "markdown",
      "source": [],
      "metadata": {
        "id": "IoNYkM5TVjOk"
      }
    }
  ]
}